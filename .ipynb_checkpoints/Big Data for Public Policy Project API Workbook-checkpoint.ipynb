{
 "cells": [
  {
   "cell_type": "code",
   "execution_count": 16,
   "metadata": {},
   "outputs": [],
   "source": [
    "# interacting with websites and web-APIs\n",
    "import requests # easy way to interact with web sites and services\n",
    "import json # read/write JavaScript Object Notation (JSON)\n",
    "\n",
    "# data manipulation\n",
    "import pandas as pd \n",
    "# normalize nested JSON files\n",
    "from pandas.io.json import json_normalize"
   ]
  },
  {
   "cell_type": "code",
   "execution_count": 17,
   "metadata": {},
   "outputs": [],
   "source": [
    "def makeurl(i):\n",
    "    base_url = 'http://www.patentsview.org/api/patents/query?'\n",
    "    criterion = 'q={\"_and\":[{\"_gte\":{\"patent_year\":\"2014\"}},{\"_lt\":{\"patent_year\":\"2015\"}},{\"_eq\":{\"assignee_lastknown_country\":\"US\"}}]}'\n",
    "    field = '&f=[\"assignee_city\",\"assignee_state\",assignee_country\",\"assignee_county_fips\",\"patent_title\",\"patent_number\",\"patent_year\",\"assignee_organization\",\"ipc_section\",\"ipc_class\",\"citedby_patent_title\",\"citedby_patent_number\",\"citedby_patent_kind\",\"citedby_patent_date\",\"citedby_patent_category\"]'\n",
    "    option = '&o={{\"page\":{},\"per_page\":10000}}'.format(i)\n",
    "    url = base_url + criterion + field + option\n",
    "    return url "
   ]
  },
  {
   "cell_type": "code",
   "execution_count": 27,
   "metadata": {
    "scrolled": true
   },
   "outputs": [
    {
     "name": "stdout",
     "output_type": "stream",
     "text": [
      "Error: 400\n",
      "Error: 400\n",
      "Error: 400\n",
      "Error: 400\n",
      "Error: 400\n",
      "Error: 400\n",
      "Error: 400\n",
      "Error: 400\n",
      "Error: 400\n",
      "Error: 400\n"
     ]
    }
   ],
   "source": [
    "patents = pd.DataFrame([])\n",
    "for i in range(1,11):\n",
    "    url = makeurl(i)\n",
    "    r = requests.get(url)\n",
    "    status = r.status_code\n",
    "    if status==200: \n",
    "        response = r.json()\n",
    "        df = json_normalize(response['patents'])\n",
    "        patents =  patents.append(df)\n",
    "    if status==204:\n",
    "        patents = patents\n",
    "    else:\n",
    "        print(\"Error: {}\".format(status))"
   ]
  },
  {
   "cell_type": "code",
   "execution_count": 24,
   "metadata": {
    "scrolled": true
   },
   "outputs": [
    {
     "data": {
      "text/plain": [
       "400"
      ]
     },
     "execution_count": 24,
     "metadata": {},
     "output_type": "execute_result"
    }
   ],
   "source": [
    "status = r.status_code \n",
    "status"
   ]
  },
  {
   "cell_type": "code",
   "execution_count": 25,
   "metadata": {},
   "outputs": [
    {
     "data": {
      "text/plain": [
       "(0, 0)"
      ]
     },
     "execution_count": 25,
     "metadata": {},
     "output_type": "execute_result"
    }
   ],
   "source": [
    "patents.shape"
   ]
  },
  {
   "cell_type": "code",
   "execution_count": 15,
   "metadata": {},
   "outputs": [
    {
     "ename": "AttributeError",
     "evalue": "'int' object has no attribute 'type'",
     "output_type": "error",
     "traceback": [
      "\u001b[0;31m---------------------------------------------------------------------------\u001b[0m",
      "\u001b[0;31mAttributeError\u001b[0m                            Traceback (most recent call last)",
      "\u001b[0;32m<ipython-input-15-6d80d9cd0fcf>\u001b[0m in \u001b[0;36m<module>\u001b[0;34m\u001b[0m\n\u001b[0;32m----> 1\u001b[0;31m \u001b[0mstatus\u001b[0m\u001b[0;34m.\u001b[0m\u001b[0mtype\u001b[0m\u001b[0;34m\u001b[0m\u001b[0;34m\u001b[0m\u001b[0m\n\u001b[0m",
      "\u001b[0;31mAttributeError\u001b[0m: 'int' object has no attribute 'type'"
     ]
    }
   ],
   "source": []
  },
  {
   "cell_type": "code",
   "execution_count": null,
   "metadata": {},
   "outputs": [],
   "source": [
    "patents.iloc[::1000, :]"
   ]
  },
  {
   "cell_type": "code",
   "execution_count": 6,
   "metadata": {},
   "outputs": [
    {
     "ename": "KeyError",
     "evalue": "'patents'",
     "output_type": "error",
     "traceback": [
      "\u001b[0;31m---------------------------------------------------------------------------\u001b[0m",
      "\u001b[0;31mKeyError\u001b[0m                                  Traceback (most recent call last)",
      "\u001b[0;32m<ipython-input-6-ae94d38b25c9>\u001b[0m in \u001b[0;36m<module>\u001b[0;34m\u001b[0m\n\u001b[0;32m----> 1\u001b[0;31m \u001b[0mresponse\u001b[0m\u001b[0;34m[\u001b[0m\u001b[0;34m'patents'\u001b[0m\u001b[0;34m]\u001b[0m\u001b[0;34m\u001b[0m\u001b[0;34m\u001b[0m\u001b[0m\n\u001b[0m",
      "\u001b[0;31mKeyError\u001b[0m: 'patents'"
     ]
    }
   ],
   "source": [
    "response['patents']"
   ]
  },
  {
   "cell_type": "code",
   "execution_count": null,
   "metadata": {},
   "outputs": [],
   "source": []
  }
 ],
 "metadata": {
  "kernelspec": {
   "display_name": "Python 3",
   "language": "python",
   "name": "python3"
  },
  "language_info": {
   "codemirror_mode": {
    "name": "ipython",
    "version": 3
   },
   "file_extension": ".py",
   "mimetype": "text/x-python",
   "name": "python",
   "nbconvert_exporter": "python",
   "pygments_lexer": "ipython3",
   "version": "3.7.4"
  }
 },
 "nbformat": 4,
 "nbformat_minor": 4
}
