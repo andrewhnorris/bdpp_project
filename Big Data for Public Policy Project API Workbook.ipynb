{
 "cells": [
  {
   "cell_type": "code",
   "execution_count": 14,
   "metadata": {},
   "outputs": [],
   "source": [
    "# interacting with websites and web-APIs\n",
    "import requests # easy way to interact with web sites and services\n",
    "import json # read/write JavaScript Object Notation (JSON)\n",
    "\n",
    "# data manipulation\n",
    "import pandas as pd \n",
    "# normalize nested JSON files\n",
    "from pandas.io.json import json_normalize"
   ]
  },
  {
   "cell_type": "code",
   "execution_count": 18,
   "metadata": {},
   "outputs": [],
   "source": [
    "def makeurl(i):\n",
    "    base_url = 'http://www.patentsview.org/api/patents/query?'\n",
    "    criterion = 'q={\"_and\":[{\"_gte\":{\"patent_year\":\"2014\"}},{\"_eq\":{\"assignee_lastknown_country\":\"US\"}}]}'\n",
    "    field = '&f=[\"assignee_city\",\"assignee_country\",\"assignee_county_fips\",\"patent_title\",\"patent_number\",\"patent_year\",\"assignee_organization\",\"ipc_section\",\"ipc_class\",\"citedby_patent_title\",\"citedby_patent_number\",\"citedby_patent_kind\",\"citedby_patent_date\",\"citedby_patent_category\"]'\n",
    "    option = '&o={{\"page\":{},\"per_page\":10000}}'.format(i)\n",
    "    url = base_url + criterion + field + option\n",
    "    return url "
   ]
  },
  {
   "cell_type": "code",
   "execution_count": null,
   "metadata": {
    "scrolled": true
   },
   "outputs": [],
   "source": [
    "patents = pd.DataFrame([])\n",
    "for i in range(1,11):\n",
    "    url = makeurl(i)\n",
    "    r = requests.get(url)\n",
    "    response = r.json()\n",
    "    \n",
    "    df = pd.json_normalize(response['patents'])\n",
    "    patents =  patents.append(df)"
   ]
  },
  {
   "cell_type": "code",
   "execution_count": null,
   "metadata": {
    "scrolled": true
   },
   "outputs": [],
   "source": [
    "patents"
   ]
  },
  {
   "cell_type": "code",
   "execution_count": null,
   "metadata": {},
   "outputs": [],
   "source": []
  },
  {
   "cell_type": "code",
   "execution_count": null,
   "metadata": {},
   "outputs": [],
   "source": []
  }
 ],
 "metadata": {
  "kernelspec": {
   "display_name": "Python 3",
   "language": "python",
   "name": "python3"
  },
  "language_info": {
   "codemirror_mode": {
    "name": "ipython",
    "version": 3
   },
   "file_extension": ".py",
   "mimetype": "text/x-python",
   "name": "python",
   "nbconvert_exporter": "python",
   "pygments_lexer": "ipython3",
   "version": "3.7.4"
  }
 },
 "nbformat": 4,
 "nbformat_minor": 4
}
